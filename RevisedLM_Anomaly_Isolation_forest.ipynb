{
  "cells": [
    {
      "cell_type": "markdown",
      "metadata": {
        "id": "view-in-github",
        "colab_type": "text"
      },
      "source": [
        "<a href=\"https://colab.research.google.com/github/MikeF98/ERAU_CS540_Team4/blob/Lauren-Branch/RevisedLM_Anomaly_Isolation_forest.ipynb\" target=\"_parent\"><img src=\"https://colab.research.google.com/assets/colab-badge.svg\" alt=\"Open In Colab\"/></a>"
      ]
    },
    {
      "cell_type": "code",
      "execution_count": 1,
      "metadata": {
        "id": "nkumf08kwDIk"
      },
      "outputs": [],
      "source": [
        "import numpy as np\n",
        "import pandas as pd\n",
        "import seaborn as sns\n",
        "from sklearn.ensemble import IsolationForest"
      ]
    },
    {
      "cell_type": "code",
      "execution_count": 2,
      "metadata": {
        "colab": {
          "base_uri": "https://localhost:8080/"
        },
        "id": "ooNj0b1xwIof",
        "outputId": "122c0c8f-2dfb-4da9-99ba-b45d04314c4d"
      },
      "outputs": [
        {
          "output_type": "stream",
          "name": "stdout",
          "text": [
            "Mounted at /content/drive\n"
          ]
        }
      ],
      "source": [
        "from google.colab import drive\n",
        "drive.mount('/content/drive')"
      ]
    },
    {
      "cell_type": "code",
      "execution_count": 3,
      "metadata": {
        "colab": {
          "base_uri": "https://localhost:8080/",
          "height": 372
        },
        "id": "1j6TmB2kwKs2",
        "outputId": "20d16896-279b-4ec3-e728-9b963629975d"
      },
      "outputs": [
        {
          "output_type": "stream",
          "name": "stderr",
          "text": [
            "/usr/local/lib/python3.7/dist-packages/IPython/core/interactiveshell.py:2882: DtypeWarning: Columns (4,5,6,12) have mixed types.Specify dtype option on import or set low_memory=False.\n",
            "  exec(code_obj, self.user_global_ns, self.user_ns)\n"
          ]
        },
        {
          "output_type": "execute_result",
          "data": {
            "text/plain": [
              "                  time    iaco24        lat       long   velocity     heading  \\\n",
              "0  2021-12-11 21:06:48   a5d421   29.401136 -81.408961  56.919922   99.887989   \n",
              "1  2021-12-11 21:06:49   a5d421   29.401043 -81.408368  57.010516  100.397334   \n",
              "2  2021-12-11 21:06:50   a5d421   29.400970 -81.407846  57.010516  100.397334   \n",
              "3  2021-12-11 21:06:51   a5d421   29.400879 -81.407371  57.010516  100.397334   \n",
              "4  2021-12-11 21:06:52   a5d421   29.400742 -81.406579  57.010516  100.397334   \n",
              "\n",
              "  vertrate    callsign    onground    alert      spi    squawk  \\\n",
              "0 -0.32512   ERU475      false       false    false    NULL      \n",
              "1 -0.32512   ERU475      false       false    false    NULL      \n",
              "2 -0.97536   ERU475      false       false    false    NULL      \n",
              "3  0.32512   ERU475      false       false    false    NULL      \n",
              "4      0.0   ERU475      false       false    false    NULL      \n",
              "\n",
              "          baroaltitude          geoaltitude  lastposupdate   lastcontact  \\\n",
              "0   876.3000000000001    914.4000000000001    1.639257e+09  1.639257e+09   \n",
              "1   876.3000000000001    914.4000000000001    1.639257e+09  1.639257e+09   \n",
              "2   876.3000000000001    914.4000000000001    1.639257e+09  1.639257e+09   \n",
              "3   876.3000000000001    914.4000000000001    1.639257e+09  1.639257e+09   \n",
              "4   876.3000000000001    914.4000000000001    1.639257e+09  1.639257e+09   \n",
              "\n",
              "      serials  \n",
              "0  1639256400  \n",
              "1  1639256400  \n",
              "2  1639256400  \n",
              "3  1639256400  \n",
              "4  1639256400  "
            ],
            "text/html": [
              "\n",
              "  <div id=\"df-50d5fde8-d2a8-4e65-91e7-4843fa2f7b47\">\n",
              "    <div class=\"colab-df-container\">\n",
              "      <div>\n",
              "<style scoped>\n",
              "    .dataframe tbody tr th:only-of-type {\n",
              "        vertical-align: middle;\n",
              "    }\n",
              "\n",
              "    .dataframe tbody tr th {\n",
              "        vertical-align: top;\n",
              "    }\n",
              "\n",
              "    .dataframe thead th {\n",
              "        text-align: right;\n",
              "    }\n",
              "</style>\n",
              "<table border=\"1\" class=\"dataframe\">\n",
              "  <thead>\n",
              "    <tr style=\"text-align: right;\">\n",
              "      <th></th>\n",
              "      <th>time</th>\n",
              "      <th>iaco24</th>\n",
              "      <th>lat</th>\n",
              "      <th>long</th>\n",
              "      <th>velocity</th>\n",
              "      <th>heading</th>\n",
              "      <th>vertrate</th>\n",
              "      <th>callsign</th>\n",
              "      <th>onground</th>\n",
              "      <th>alert</th>\n",
              "      <th>spi</th>\n",
              "      <th>squawk</th>\n",
              "      <th>baroaltitude</th>\n",
              "      <th>geoaltitude</th>\n",
              "      <th>lastposupdate</th>\n",
              "      <th>lastcontact</th>\n",
              "      <th>serials</th>\n",
              "    </tr>\n",
              "  </thead>\n",
              "  <tbody>\n",
              "    <tr>\n",
              "      <th>0</th>\n",
              "      <td>2021-12-11 21:06:48</td>\n",
              "      <td>a5d421</td>\n",
              "      <td>29.401136</td>\n",
              "      <td>-81.408961</td>\n",
              "      <td>56.919922</td>\n",
              "      <td>99.887989</td>\n",
              "      <td>-0.32512</td>\n",
              "      <td>ERU475</td>\n",
              "      <td>false</td>\n",
              "      <td>false</td>\n",
              "      <td>false</td>\n",
              "      <td>NULL</td>\n",
              "      <td>876.3000000000001</td>\n",
              "      <td>914.4000000000001</td>\n",
              "      <td>1.639257e+09</td>\n",
              "      <td>1.639257e+09</td>\n",
              "      <td>1639256400</td>\n",
              "    </tr>\n",
              "    <tr>\n",
              "      <th>1</th>\n",
              "      <td>2021-12-11 21:06:49</td>\n",
              "      <td>a5d421</td>\n",
              "      <td>29.401043</td>\n",
              "      <td>-81.408368</td>\n",
              "      <td>57.010516</td>\n",
              "      <td>100.397334</td>\n",
              "      <td>-0.32512</td>\n",
              "      <td>ERU475</td>\n",
              "      <td>false</td>\n",
              "      <td>false</td>\n",
              "      <td>false</td>\n",
              "      <td>NULL</td>\n",
              "      <td>876.3000000000001</td>\n",
              "      <td>914.4000000000001</td>\n",
              "      <td>1.639257e+09</td>\n",
              "      <td>1.639257e+09</td>\n",
              "      <td>1639256400</td>\n",
              "    </tr>\n",
              "    <tr>\n",
              "      <th>2</th>\n",
              "      <td>2021-12-11 21:06:50</td>\n",
              "      <td>a5d421</td>\n",
              "      <td>29.400970</td>\n",
              "      <td>-81.407846</td>\n",
              "      <td>57.010516</td>\n",
              "      <td>100.397334</td>\n",
              "      <td>-0.97536</td>\n",
              "      <td>ERU475</td>\n",
              "      <td>false</td>\n",
              "      <td>false</td>\n",
              "      <td>false</td>\n",
              "      <td>NULL</td>\n",
              "      <td>876.3000000000001</td>\n",
              "      <td>914.4000000000001</td>\n",
              "      <td>1.639257e+09</td>\n",
              "      <td>1.639257e+09</td>\n",
              "      <td>1639256400</td>\n",
              "    </tr>\n",
              "    <tr>\n",
              "      <th>3</th>\n",
              "      <td>2021-12-11 21:06:51</td>\n",
              "      <td>a5d421</td>\n",
              "      <td>29.400879</td>\n",
              "      <td>-81.407371</td>\n",
              "      <td>57.010516</td>\n",
              "      <td>100.397334</td>\n",
              "      <td>0.32512</td>\n",
              "      <td>ERU475</td>\n",
              "      <td>false</td>\n",
              "      <td>false</td>\n",
              "      <td>false</td>\n",
              "      <td>NULL</td>\n",
              "      <td>876.3000000000001</td>\n",
              "      <td>914.4000000000001</td>\n",
              "      <td>1.639257e+09</td>\n",
              "      <td>1.639257e+09</td>\n",
              "      <td>1639256400</td>\n",
              "    </tr>\n",
              "    <tr>\n",
              "      <th>4</th>\n",
              "      <td>2021-12-11 21:06:52</td>\n",
              "      <td>a5d421</td>\n",
              "      <td>29.400742</td>\n",
              "      <td>-81.406579</td>\n",
              "      <td>57.010516</td>\n",
              "      <td>100.397334</td>\n",
              "      <td>0.0</td>\n",
              "      <td>ERU475</td>\n",
              "      <td>false</td>\n",
              "      <td>false</td>\n",
              "      <td>false</td>\n",
              "      <td>NULL</td>\n",
              "      <td>876.3000000000001</td>\n",
              "      <td>914.4000000000001</td>\n",
              "      <td>1.639257e+09</td>\n",
              "      <td>1.639257e+09</td>\n",
              "      <td>1639256400</td>\n",
              "    </tr>\n",
              "  </tbody>\n",
              "</table>\n",
              "</div>\n",
              "      <button class=\"colab-df-convert\" onclick=\"convertToInteractive('df-50d5fde8-d2a8-4e65-91e7-4843fa2f7b47')\"\n",
              "              title=\"Convert this dataframe to an interactive table.\"\n",
              "              style=\"display:none;\">\n",
              "        \n",
              "  <svg xmlns=\"http://www.w3.org/2000/svg\" height=\"24px\"viewBox=\"0 0 24 24\"\n",
              "       width=\"24px\">\n",
              "    <path d=\"M0 0h24v24H0V0z\" fill=\"none\"/>\n",
              "    <path d=\"M18.56 5.44l.94 2.06.94-2.06 2.06-.94-2.06-.94-.94-2.06-.94 2.06-2.06.94zm-11 1L8.5 8.5l.94-2.06 2.06-.94-2.06-.94L8.5 2.5l-.94 2.06-2.06.94zm10 10l.94 2.06.94-2.06 2.06-.94-2.06-.94-.94-2.06-.94 2.06-2.06.94z\"/><path d=\"M17.41 7.96l-1.37-1.37c-.4-.4-.92-.59-1.43-.59-.52 0-1.04.2-1.43.59L10.3 9.45l-7.72 7.72c-.78.78-.78 2.05 0 2.83L4 21.41c.39.39.9.59 1.41.59.51 0 1.02-.2 1.41-.59l7.78-7.78 2.81-2.81c.8-.78.8-2.07 0-2.86zM5.41 20L4 18.59l7.72-7.72 1.47 1.35L5.41 20z\"/>\n",
              "  </svg>\n",
              "      </button>\n",
              "      \n",
              "  <style>\n",
              "    .colab-df-container {\n",
              "      display:flex;\n",
              "      flex-wrap:wrap;\n",
              "      gap: 12px;\n",
              "    }\n",
              "\n",
              "    .colab-df-convert {\n",
              "      background-color: #E8F0FE;\n",
              "      border: none;\n",
              "      border-radius: 50%;\n",
              "      cursor: pointer;\n",
              "      display: none;\n",
              "      fill: #1967D2;\n",
              "      height: 32px;\n",
              "      padding: 0 0 0 0;\n",
              "      width: 32px;\n",
              "    }\n",
              "\n",
              "    .colab-df-convert:hover {\n",
              "      background-color: #E2EBFA;\n",
              "      box-shadow: 0px 1px 2px rgba(60, 64, 67, 0.3), 0px 1px 3px 1px rgba(60, 64, 67, 0.15);\n",
              "      fill: #174EA6;\n",
              "    }\n",
              "\n",
              "    [theme=dark] .colab-df-convert {\n",
              "      background-color: #3B4455;\n",
              "      fill: #D2E3FC;\n",
              "    }\n",
              "\n",
              "    [theme=dark] .colab-df-convert:hover {\n",
              "      background-color: #434B5C;\n",
              "      box-shadow: 0px 1px 3px 1px rgba(0, 0, 0, 0.15);\n",
              "      filter: drop-shadow(0px 1px 2px rgba(0, 0, 0, 0.3));\n",
              "      fill: #FFFFFF;\n",
              "    }\n",
              "  </style>\n",
              "\n",
              "      <script>\n",
              "        const buttonEl =\n",
              "          document.querySelector('#df-50d5fde8-d2a8-4e65-91e7-4843fa2f7b47 button.colab-df-convert');\n",
              "        buttonEl.style.display =\n",
              "          google.colab.kernel.accessAllowed ? 'block' : 'none';\n",
              "\n",
              "        async function convertToInteractive(key) {\n",
              "          const element = document.querySelector('#df-50d5fde8-d2a8-4e65-91e7-4843fa2f7b47');\n",
              "          const dataTable =\n",
              "            await google.colab.kernel.invokeFunction('convertToInteractive',\n",
              "                                                     [key], {});\n",
              "          if (!dataTable) return;\n",
              "\n",
              "          const docLinkHtml = 'Like what you see? Visit the ' +\n",
              "            '<a target=\"_blank\" href=https://colab.research.google.com/notebooks/data_table.ipynb>data table notebook</a>'\n",
              "            + ' to learn more about interactive tables.';\n",
              "          element.innerHTML = '';\n",
              "          dataTable['output_type'] = 'display_data';\n",
              "          await google.colab.output.renderOutput(dataTable, element);\n",
              "          const docLink = document.createElement('div');\n",
              "          docLink.innerHTML = docLinkHtml;\n",
              "          element.appendChild(docLink);\n",
              "        }\n",
              "      </script>\n",
              "    </div>\n",
              "  </div>\n",
              "  "
            ]
          },
          "metadata": {},
          "execution_count": 3
        }
      ],
      "source": [
        "flightdata = pd.read_csv(\n",
        "    '/content/drive/MyDrive/MA 540 Data Mining/Revisedhistoric_data (1).csv',)\n",
        "\n",
        "flightdata.head()"
      ]
    },
    {
      "cell_type": "code",
      "source": [
        "flightdata.info()"
      ],
      "metadata": {
        "colab": {
          "base_uri": "https://localhost:8080/"
        },
        "id": "w74-wBk48Hjk",
        "outputId": "dc99f11e-a8af-4fc4-e264-e5d68c96b416"
      },
      "execution_count": 4,
      "outputs": [
        {
          "output_type": "stream",
          "name": "stdout",
          "text": [
            "<class 'pandas.core.frame.DataFrame'>\n",
            "RangeIndex: 2260992 entries, 0 to 2260991\n",
            "Data columns (total 17 columns):\n",
            " #   Column         Dtype  \n",
            "---  ------         -----  \n",
            " 0   time           object \n",
            " 1   iaco24         object \n",
            " 2   lat            float64\n",
            " 3   long           float64\n",
            " 4   velocity       object \n",
            " 5   heading        object \n",
            " 6   vertrate       object \n",
            " 7   callsign       object \n",
            " 8   onground       object \n",
            " 9   alert          object \n",
            " 10  spi            object \n",
            " 11  squawk         object \n",
            " 12  baroaltitude   object \n",
            " 13  geoaltitude    object \n",
            " 14  lastposupdate  float64\n",
            " 15  lastcontact    float64\n",
            " 16  serials        int64  \n",
            "dtypes: float64(4), int64(1), object(12)\n",
            "memory usage: 293.3+ MB\n"
          ]
        }
      ]
    },
    {
      "cell_type": "markdown",
      "source": [
        "Reorganizing Headers"
      ],
      "metadata": {
        "id": "ylyC4OHt8aSs"
      }
    },
    {
      "cell_type": "code",
      "source": [
        "df1 = flightdata[[\"time\", \"iaco24\", \"lat\",\"long\",\"velocity\",\"vertrate\", \"baroaltitude\", \"heading\", \"callsign\",\"onground\",\"alert\",\"spi\",\"squawk\",\"geoaltitude\",\"lastposupdate\",\"lastcontact\",\"serials\"]]\n",
        "df1.head(2)"
      ],
      "metadata": {
        "colab": {
          "base_uri": "https://localhost:8080/",
          "height": 191
        },
        "id": "INeod80x7eFW",
        "outputId": "e4895bef-e9b2-4e33-9554-9835da1ebd89"
      },
      "execution_count": 13,
      "outputs": [
        {
          "output_type": "execute_result",
          "data": {
            "text/plain": [
              "                  time    iaco24        lat       long   velocity vertrate  \\\n",
              "0  2021-12-11 21:06:48   a5d421   29.401136 -81.408961  56.919922 -0.32512   \n",
              "1  2021-12-11 21:06:49   a5d421   29.401043 -81.408368  57.010516 -0.32512   \n",
              "\n",
              "          baroaltitude     heading    callsign    onground    alert      spi  \\\n",
              "0   876.3000000000001    99.887989   ERU475      false       false    false    \n",
              "1   876.3000000000001   100.397334   ERU475      false       false    false    \n",
              "\n",
              "     squawk          geoaltitude  lastposupdate   lastcontact     serials  \n",
              "0   NULL      914.4000000000001    1.639257e+09  1.639257e+09  1639256400  \n",
              "1   NULL      914.4000000000001    1.639257e+09  1.639257e+09  1639256400  "
            ],
            "text/html": [
              "\n",
              "  <div id=\"df-bb3e5c7c-381b-4318-b28c-6a7dad6918ee\">\n",
              "    <div class=\"colab-df-container\">\n",
              "      <div>\n",
              "<style scoped>\n",
              "    .dataframe tbody tr th:only-of-type {\n",
              "        vertical-align: middle;\n",
              "    }\n",
              "\n",
              "    .dataframe tbody tr th {\n",
              "        vertical-align: top;\n",
              "    }\n",
              "\n",
              "    .dataframe thead th {\n",
              "        text-align: right;\n",
              "    }\n",
              "</style>\n",
              "<table border=\"1\" class=\"dataframe\">\n",
              "  <thead>\n",
              "    <tr style=\"text-align: right;\">\n",
              "      <th></th>\n",
              "      <th>time</th>\n",
              "      <th>iaco24</th>\n",
              "      <th>lat</th>\n",
              "      <th>long</th>\n",
              "      <th>velocity</th>\n",
              "      <th>vertrate</th>\n",
              "      <th>baroaltitude</th>\n",
              "      <th>heading</th>\n",
              "      <th>callsign</th>\n",
              "      <th>onground</th>\n",
              "      <th>alert</th>\n",
              "      <th>spi</th>\n",
              "      <th>squawk</th>\n",
              "      <th>geoaltitude</th>\n",
              "      <th>lastposupdate</th>\n",
              "      <th>lastcontact</th>\n",
              "      <th>serials</th>\n",
              "    </tr>\n",
              "  </thead>\n",
              "  <tbody>\n",
              "    <tr>\n",
              "      <th>0</th>\n",
              "      <td>2021-12-11 21:06:48</td>\n",
              "      <td>a5d421</td>\n",
              "      <td>29.401136</td>\n",
              "      <td>-81.408961</td>\n",
              "      <td>56.919922</td>\n",
              "      <td>-0.32512</td>\n",
              "      <td>876.3000000000001</td>\n",
              "      <td>99.887989</td>\n",
              "      <td>ERU475</td>\n",
              "      <td>false</td>\n",
              "      <td>false</td>\n",
              "      <td>false</td>\n",
              "      <td>NULL</td>\n",
              "      <td>914.4000000000001</td>\n",
              "      <td>1.639257e+09</td>\n",
              "      <td>1.639257e+09</td>\n",
              "      <td>1639256400</td>\n",
              "    </tr>\n",
              "    <tr>\n",
              "      <th>1</th>\n",
              "      <td>2021-12-11 21:06:49</td>\n",
              "      <td>a5d421</td>\n",
              "      <td>29.401043</td>\n",
              "      <td>-81.408368</td>\n",
              "      <td>57.010516</td>\n",
              "      <td>-0.32512</td>\n",
              "      <td>876.3000000000001</td>\n",
              "      <td>100.397334</td>\n",
              "      <td>ERU475</td>\n",
              "      <td>false</td>\n",
              "      <td>false</td>\n",
              "      <td>false</td>\n",
              "      <td>NULL</td>\n",
              "      <td>914.4000000000001</td>\n",
              "      <td>1.639257e+09</td>\n",
              "      <td>1.639257e+09</td>\n",
              "      <td>1639256400</td>\n",
              "    </tr>\n",
              "  </tbody>\n",
              "</table>\n",
              "</div>\n",
              "      <button class=\"colab-df-convert\" onclick=\"convertToInteractive('df-bb3e5c7c-381b-4318-b28c-6a7dad6918ee')\"\n",
              "              title=\"Convert this dataframe to an interactive table.\"\n",
              "              style=\"display:none;\">\n",
              "        \n",
              "  <svg xmlns=\"http://www.w3.org/2000/svg\" height=\"24px\"viewBox=\"0 0 24 24\"\n",
              "       width=\"24px\">\n",
              "    <path d=\"M0 0h24v24H0V0z\" fill=\"none\"/>\n",
              "    <path d=\"M18.56 5.44l.94 2.06.94-2.06 2.06-.94-2.06-.94-.94-2.06-.94 2.06-2.06.94zm-11 1L8.5 8.5l.94-2.06 2.06-.94-2.06-.94L8.5 2.5l-.94 2.06-2.06.94zm10 10l.94 2.06.94-2.06 2.06-.94-2.06-.94-.94-2.06-.94 2.06-2.06.94z\"/><path d=\"M17.41 7.96l-1.37-1.37c-.4-.4-.92-.59-1.43-.59-.52 0-1.04.2-1.43.59L10.3 9.45l-7.72 7.72c-.78.78-.78 2.05 0 2.83L4 21.41c.39.39.9.59 1.41.59.51 0 1.02-.2 1.41-.59l7.78-7.78 2.81-2.81c.8-.78.8-2.07 0-2.86zM5.41 20L4 18.59l7.72-7.72 1.47 1.35L5.41 20z\"/>\n",
              "  </svg>\n",
              "      </button>\n",
              "      \n",
              "  <style>\n",
              "    .colab-df-container {\n",
              "      display:flex;\n",
              "      flex-wrap:wrap;\n",
              "      gap: 12px;\n",
              "    }\n",
              "\n",
              "    .colab-df-convert {\n",
              "      background-color: #E8F0FE;\n",
              "      border: none;\n",
              "      border-radius: 50%;\n",
              "      cursor: pointer;\n",
              "      display: none;\n",
              "      fill: #1967D2;\n",
              "      height: 32px;\n",
              "      padding: 0 0 0 0;\n",
              "      width: 32px;\n",
              "    }\n",
              "\n",
              "    .colab-df-convert:hover {\n",
              "      background-color: #E2EBFA;\n",
              "      box-shadow: 0px 1px 2px rgba(60, 64, 67, 0.3), 0px 1px 3px 1px rgba(60, 64, 67, 0.15);\n",
              "      fill: #174EA6;\n",
              "    }\n",
              "\n",
              "    [theme=dark] .colab-df-convert {\n",
              "      background-color: #3B4455;\n",
              "      fill: #D2E3FC;\n",
              "    }\n",
              "\n",
              "    [theme=dark] .colab-df-convert:hover {\n",
              "      background-color: #434B5C;\n",
              "      box-shadow: 0px 1px 3px 1px rgba(0, 0, 0, 0.15);\n",
              "      filter: drop-shadow(0px 1px 2px rgba(0, 0, 0, 0.3));\n",
              "      fill: #FFFFFF;\n",
              "    }\n",
              "  </style>\n",
              "\n",
              "      <script>\n",
              "        const buttonEl =\n",
              "          document.querySelector('#df-bb3e5c7c-381b-4318-b28c-6a7dad6918ee button.colab-df-convert');\n",
              "        buttonEl.style.display =\n",
              "          google.colab.kernel.accessAllowed ? 'block' : 'none';\n",
              "\n",
              "        async function convertToInteractive(key) {\n",
              "          const element = document.querySelector('#df-bb3e5c7c-381b-4318-b28c-6a7dad6918ee');\n",
              "          const dataTable =\n",
              "            await google.colab.kernel.invokeFunction('convertToInteractive',\n",
              "                                                     [key], {});\n",
              "          if (!dataTable) return;\n",
              "\n",
              "          const docLinkHtml = 'Like what you see? Visit the ' +\n",
              "            '<a target=\"_blank\" href=https://colab.research.google.com/notebooks/data_table.ipynb>data table notebook</a>'\n",
              "            + ' to learn more about interactive tables.';\n",
              "          element.innerHTML = '';\n",
              "          dataTable['output_type'] = 'display_data';\n",
              "          await google.colab.output.renderOutput(dataTable, element);\n",
              "          const docLink = document.createElement('div');\n",
              "          docLink.innerHTML = docLinkHtml;\n",
              "          element.appendChild(docLink);\n",
              "        }\n",
              "      </script>\n",
              "    </div>\n",
              "  </div>\n",
              "  "
            ]
          },
          "metadata": {},
          "execution_count": 13
        }
      ]
    },
    {
      "cell_type": "markdown",
      "source": [
        "Converting time to datetime"
      ],
      "metadata": {
        "id": "WrFYZNJA8fph"
      }
    },
    {
      "cell_type": "code",
      "execution_count": 14,
      "metadata": {
        "id": "qHNLN_iGm-3W"
      },
      "outputs": [],
      "source": [
        "df1.time=pd.to_datetime(df1['time'])\n",
        "#converted_df = pd.to_datetime(flightdata['time'], unit='s')"
      ]
    },
    {
      "cell_type": "code",
      "execution_count": 15,
      "metadata": {
        "colab": {
          "base_uri": "https://localhost:8080/",
          "height": 337
        },
        "id": "RvuzmDuWvH7c",
        "outputId": "66b5d692-06d4-4555-8d32-fbc693ec7247"
      },
      "outputs": [
        {
          "output_type": "execute_result",
          "data": {
            "text/plain": [
              "                 time    iaco24        lat       long   velocity vertrate  \\\n",
              "0 2021-12-11 21:06:48   a5d421   29.401136 -81.408961  56.919922 -0.32512   \n",
              "1 2021-12-11 21:06:49   a5d421   29.401043 -81.408368  57.010516 -0.32512   \n",
              "2 2021-12-11 21:06:50   a5d421   29.400970 -81.407846  57.010516 -0.97536   \n",
              "3 2021-12-11 21:06:51   a5d421   29.400879 -81.407371  57.010516  0.32512   \n",
              "4 2021-12-11 21:06:52   a5d421   29.400742 -81.406579  57.010516      0.0   \n",
              "\n",
              "          baroaltitude     heading    callsign    onground    alert      spi  \\\n",
              "0   876.3000000000001    99.887989   ERU475      false       false    false    \n",
              "1   876.3000000000001   100.397334   ERU475      false       false    false    \n",
              "2   876.3000000000001   100.397334   ERU475      false       false    false    \n",
              "3   876.3000000000001   100.397334   ERU475      false       false    false    \n",
              "4   876.3000000000001   100.397334   ERU475      false       false    false    \n",
              "\n",
              "     squawk          geoaltitude  lastposupdate   lastcontact     serials  \n",
              "0   NULL      914.4000000000001    1.639257e+09  1.639257e+09  1639256400  \n",
              "1   NULL      914.4000000000001    1.639257e+09  1.639257e+09  1639256400  \n",
              "2   NULL      914.4000000000001    1.639257e+09  1.639257e+09  1639256400  \n",
              "3   NULL      914.4000000000001    1.639257e+09  1.639257e+09  1639256400  \n",
              "4   NULL      914.4000000000001    1.639257e+09  1.639257e+09  1639256400  "
            ],
            "text/html": [
              "\n",
              "  <div id=\"df-9e86f970-95c0-44e1-a1e7-873cfda9a446\">\n",
              "    <div class=\"colab-df-container\">\n",
              "      <div>\n",
              "<style scoped>\n",
              "    .dataframe tbody tr th:only-of-type {\n",
              "        vertical-align: middle;\n",
              "    }\n",
              "\n",
              "    .dataframe tbody tr th {\n",
              "        vertical-align: top;\n",
              "    }\n",
              "\n",
              "    .dataframe thead th {\n",
              "        text-align: right;\n",
              "    }\n",
              "</style>\n",
              "<table border=\"1\" class=\"dataframe\">\n",
              "  <thead>\n",
              "    <tr style=\"text-align: right;\">\n",
              "      <th></th>\n",
              "      <th>time</th>\n",
              "      <th>iaco24</th>\n",
              "      <th>lat</th>\n",
              "      <th>long</th>\n",
              "      <th>velocity</th>\n",
              "      <th>vertrate</th>\n",
              "      <th>baroaltitude</th>\n",
              "      <th>heading</th>\n",
              "      <th>callsign</th>\n",
              "      <th>onground</th>\n",
              "      <th>alert</th>\n",
              "      <th>spi</th>\n",
              "      <th>squawk</th>\n",
              "      <th>geoaltitude</th>\n",
              "      <th>lastposupdate</th>\n",
              "      <th>lastcontact</th>\n",
              "      <th>serials</th>\n",
              "    </tr>\n",
              "  </thead>\n",
              "  <tbody>\n",
              "    <tr>\n",
              "      <th>0</th>\n",
              "      <td>2021-12-11 21:06:48</td>\n",
              "      <td>a5d421</td>\n",
              "      <td>29.401136</td>\n",
              "      <td>-81.408961</td>\n",
              "      <td>56.919922</td>\n",
              "      <td>-0.32512</td>\n",
              "      <td>876.3000000000001</td>\n",
              "      <td>99.887989</td>\n",
              "      <td>ERU475</td>\n",
              "      <td>false</td>\n",
              "      <td>false</td>\n",
              "      <td>false</td>\n",
              "      <td>NULL</td>\n",
              "      <td>914.4000000000001</td>\n",
              "      <td>1.639257e+09</td>\n",
              "      <td>1.639257e+09</td>\n",
              "      <td>1639256400</td>\n",
              "    </tr>\n",
              "    <tr>\n",
              "      <th>1</th>\n",
              "      <td>2021-12-11 21:06:49</td>\n",
              "      <td>a5d421</td>\n",
              "      <td>29.401043</td>\n",
              "      <td>-81.408368</td>\n",
              "      <td>57.010516</td>\n",
              "      <td>-0.32512</td>\n",
              "      <td>876.3000000000001</td>\n",
              "      <td>100.397334</td>\n",
              "      <td>ERU475</td>\n",
              "      <td>false</td>\n",
              "      <td>false</td>\n",
              "      <td>false</td>\n",
              "      <td>NULL</td>\n",
              "      <td>914.4000000000001</td>\n",
              "      <td>1.639257e+09</td>\n",
              "      <td>1.639257e+09</td>\n",
              "      <td>1639256400</td>\n",
              "    </tr>\n",
              "    <tr>\n",
              "      <th>2</th>\n",
              "      <td>2021-12-11 21:06:50</td>\n",
              "      <td>a5d421</td>\n",
              "      <td>29.400970</td>\n",
              "      <td>-81.407846</td>\n",
              "      <td>57.010516</td>\n",
              "      <td>-0.97536</td>\n",
              "      <td>876.3000000000001</td>\n",
              "      <td>100.397334</td>\n",
              "      <td>ERU475</td>\n",
              "      <td>false</td>\n",
              "      <td>false</td>\n",
              "      <td>false</td>\n",
              "      <td>NULL</td>\n",
              "      <td>914.4000000000001</td>\n",
              "      <td>1.639257e+09</td>\n",
              "      <td>1.639257e+09</td>\n",
              "      <td>1639256400</td>\n",
              "    </tr>\n",
              "    <tr>\n",
              "      <th>3</th>\n",
              "      <td>2021-12-11 21:06:51</td>\n",
              "      <td>a5d421</td>\n",
              "      <td>29.400879</td>\n",
              "      <td>-81.407371</td>\n",
              "      <td>57.010516</td>\n",
              "      <td>0.32512</td>\n",
              "      <td>876.3000000000001</td>\n",
              "      <td>100.397334</td>\n",
              "      <td>ERU475</td>\n",
              "      <td>false</td>\n",
              "      <td>false</td>\n",
              "      <td>false</td>\n",
              "      <td>NULL</td>\n",
              "      <td>914.4000000000001</td>\n",
              "      <td>1.639257e+09</td>\n",
              "      <td>1.639257e+09</td>\n",
              "      <td>1639256400</td>\n",
              "    </tr>\n",
              "    <tr>\n",
              "      <th>4</th>\n",
              "      <td>2021-12-11 21:06:52</td>\n",
              "      <td>a5d421</td>\n",
              "      <td>29.400742</td>\n",
              "      <td>-81.406579</td>\n",
              "      <td>57.010516</td>\n",
              "      <td>0.0</td>\n",
              "      <td>876.3000000000001</td>\n",
              "      <td>100.397334</td>\n",
              "      <td>ERU475</td>\n",
              "      <td>false</td>\n",
              "      <td>false</td>\n",
              "      <td>false</td>\n",
              "      <td>NULL</td>\n",
              "      <td>914.4000000000001</td>\n",
              "      <td>1.639257e+09</td>\n",
              "      <td>1.639257e+09</td>\n",
              "      <td>1639256400</td>\n",
              "    </tr>\n",
              "  </tbody>\n",
              "</table>\n",
              "</div>\n",
              "      <button class=\"colab-df-convert\" onclick=\"convertToInteractive('df-9e86f970-95c0-44e1-a1e7-873cfda9a446')\"\n",
              "              title=\"Convert this dataframe to an interactive table.\"\n",
              "              style=\"display:none;\">\n",
              "        \n",
              "  <svg xmlns=\"http://www.w3.org/2000/svg\" height=\"24px\"viewBox=\"0 0 24 24\"\n",
              "       width=\"24px\">\n",
              "    <path d=\"M0 0h24v24H0V0z\" fill=\"none\"/>\n",
              "    <path d=\"M18.56 5.44l.94 2.06.94-2.06 2.06-.94-2.06-.94-.94-2.06-.94 2.06-2.06.94zm-11 1L8.5 8.5l.94-2.06 2.06-.94-2.06-.94L8.5 2.5l-.94 2.06-2.06.94zm10 10l.94 2.06.94-2.06 2.06-.94-2.06-.94-.94-2.06-.94 2.06-2.06.94z\"/><path d=\"M17.41 7.96l-1.37-1.37c-.4-.4-.92-.59-1.43-.59-.52 0-1.04.2-1.43.59L10.3 9.45l-7.72 7.72c-.78.78-.78 2.05 0 2.83L4 21.41c.39.39.9.59 1.41.59.51 0 1.02-.2 1.41-.59l7.78-7.78 2.81-2.81c.8-.78.8-2.07 0-2.86zM5.41 20L4 18.59l7.72-7.72 1.47 1.35L5.41 20z\"/>\n",
              "  </svg>\n",
              "      </button>\n",
              "      \n",
              "  <style>\n",
              "    .colab-df-container {\n",
              "      display:flex;\n",
              "      flex-wrap:wrap;\n",
              "      gap: 12px;\n",
              "    }\n",
              "\n",
              "    .colab-df-convert {\n",
              "      background-color: #E8F0FE;\n",
              "      border: none;\n",
              "      border-radius: 50%;\n",
              "      cursor: pointer;\n",
              "      display: none;\n",
              "      fill: #1967D2;\n",
              "      height: 32px;\n",
              "      padding: 0 0 0 0;\n",
              "      width: 32px;\n",
              "    }\n",
              "\n",
              "    .colab-df-convert:hover {\n",
              "      background-color: #E2EBFA;\n",
              "      box-shadow: 0px 1px 2px rgba(60, 64, 67, 0.3), 0px 1px 3px 1px rgba(60, 64, 67, 0.15);\n",
              "      fill: #174EA6;\n",
              "    }\n",
              "\n",
              "    [theme=dark] .colab-df-convert {\n",
              "      background-color: #3B4455;\n",
              "      fill: #D2E3FC;\n",
              "    }\n",
              "\n",
              "    [theme=dark] .colab-df-convert:hover {\n",
              "      background-color: #434B5C;\n",
              "      box-shadow: 0px 1px 3px 1px rgba(0, 0, 0, 0.15);\n",
              "      filter: drop-shadow(0px 1px 2px rgba(0, 0, 0, 0.3));\n",
              "      fill: #FFFFFF;\n",
              "    }\n",
              "  </style>\n",
              "\n",
              "      <script>\n",
              "        const buttonEl =\n",
              "          document.querySelector('#df-9e86f970-95c0-44e1-a1e7-873cfda9a446 button.colab-df-convert');\n",
              "        buttonEl.style.display =\n",
              "          google.colab.kernel.accessAllowed ? 'block' : 'none';\n",
              "\n",
              "        async function convertToInteractive(key) {\n",
              "          const element = document.querySelector('#df-9e86f970-95c0-44e1-a1e7-873cfda9a446');\n",
              "          const dataTable =\n",
              "            await google.colab.kernel.invokeFunction('convertToInteractive',\n",
              "                                                     [key], {});\n",
              "          if (!dataTable) return;\n",
              "\n",
              "          const docLinkHtml = 'Like what you see? Visit the ' +\n",
              "            '<a target=\"_blank\" href=https://colab.research.google.com/notebooks/data_table.ipynb>data table notebook</a>'\n",
              "            + ' to learn more about interactive tables.';\n",
              "          element.innerHTML = '';\n",
              "          dataTable['output_type'] = 'display_data';\n",
              "          await google.colab.output.renderOutput(dataTable, element);\n",
              "          const docLink = document.createElement('div');\n",
              "          docLink.innerHTML = docLinkHtml;\n",
              "          element.appendChild(docLink);\n",
              "        }\n",
              "      </script>\n",
              "    </div>\n",
              "  </div>\n",
              "  "
            ]
          },
          "metadata": {},
          "execution_count": 15
        }
      ],
      "source": [
        "df1.head(5)"
      ]
    },
    {
      "cell_type": "code",
      "execution_count": 16,
      "metadata": {
        "colab": {
          "base_uri": "https://localhost:8080/"
        },
        "id": "TkBHJkDMwk7V",
        "outputId": "248f2288-6ceb-4fcc-9ae2-685ad21bd1f2"
      },
      "outputs": [
        {
          "output_type": "execute_result",
          "data": {
            "text/plain": [
              "time             datetime64[ns]\n",
              "iaco24                   object\n",
              "lat                     float64\n",
              "long                    float64\n",
              "velocity                 object\n",
              "vertrate                 object\n",
              "baroaltitude             object\n",
              "heading                  object\n",
              "callsign                 object\n",
              "onground                 object\n",
              "alert                    object\n",
              "spi                      object\n",
              "squawk                   object\n",
              "geoaltitude              object\n",
              "lastposupdate           float64\n",
              "lastcontact             float64\n",
              "serials                   int64\n",
              "dtype: object"
            ]
          },
          "metadata": {},
          "execution_count": 16
        }
      ],
      "source": [
        "df1.dtypes"
      ]
    },
    {
      "cell_type": "code",
      "execution_count": 17,
      "metadata": {
        "id": "STetWB3ZmE4T"
      },
      "outputs": [],
      "source": [
        "df=df1"
      ]
    },
    {
      "cell_type": "markdown",
      "source": [
        "Making attributes int64"
      ],
      "metadata": {
        "id": "Hxtnxqbe83hL"
      }
    },
    {
      "cell_type": "code",
      "execution_count": 18,
      "metadata": {
        "colab": {
          "base_uri": "https://localhost:8080/"
        },
        "id": "yXg8KDa0VG7J",
        "outputId": "c905bc18-3644-4044-f188-ae8fb7497930"
      },
      "outputs": [
        {
          "output_type": "stream",
          "name": "stdout",
          "text": [
            "<class 'pandas.core.frame.DataFrame'>\n",
            "RangeIndex: 2260992 entries, 0 to 2260991\n",
            "Data columns (total 17 columns):\n",
            " #   Column         Dtype         \n",
            "---  ------         -----         \n",
            " 0   time           datetime64[ns]\n",
            " 1   iaco24         object        \n",
            " 2   lat            float64       \n",
            " 3   long           float64       \n",
            " 4   velocity       float64       \n",
            " 5   vertrate       float64       \n",
            " 6   baroaltitude   float64       \n",
            " 7   heading        object        \n",
            " 8   callsign       object        \n",
            " 9   onground       object        \n",
            " 10  alert          object        \n",
            " 11  spi            object        \n",
            " 12  squawk         object        \n",
            " 13  geoaltitude    object        \n",
            " 14  lastposupdate  float64       \n",
            " 15  lastcontact    float64       \n",
            " 16  serials        int64         \n",
            "dtypes: datetime64[ns](1), float64(7), int64(1), object(8)\n",
            "memory usage: 293.3+ MB\n",
            "None\n"
          ]
        }
      ],
      "source": [
        "df['velocity'] = pd.to_numeric(df['velocity'],errors='coerce')\n",
        "df['baroaltitude'] = pd.to_numeric(df['baroaltitude'],errors = 'coerce')\n",
        "df['vertrate'] = pd.to_numeric(df['vertrate'],errors = 'coerce')\n",
        "df['lat'] = pd.to_numeric(df['lat'],errors = 'coerce')\n",
        "df['long'] = pd.to_numeric(df['long'],errors = 'coerce')\n",
        "\n",
        "print(df.info())"
      ]
    },
    {
      "cell_type": "markdown",
      "source": [
        "THE MODEL and checking for nulls"
      ],
      "metadata": {
        "id": "T5561F3189TP"
      }
    },
    {
      "cell_type": "code",
      "execution_count": 19,
      "metadata": {
        "id": "NrZXa1hZXx4-"
      },
      "outputs": [],
      "source": [
        "random_state = np.random.RandomState(42)"
      ]
    },
    {
      "cell_type": "code",
      "execution_count": 20,
      "metadata": {
        "colab": {
          "base_uri": "https://localhost:8080/"
        },
        "id": "31rdCrpnbQjf",
        "outputId": "d3564b7a-2495-41b3-d12a-0eb22e86c71d"
      },
      "outputs": [
        {
          "output_type": "execute_result",
          "data": {
            "text/plain": [
              "True"
            ]
          },
          "metadata": {},
          "execution_count": 20
        }
      ],
      "source": [
        "df.isnull().any().any() "
      ]
    },
    {
      "cell_type": "code",
      "execution_count": 21,
      "metadata": {
        "colab": {
          "base_uri": "https://localhost:8080/"
        },
        "id": "4gscSKrCbU5p",
        "outputId": "2a8b74a2-d63c-4932-9116-7be3b04ba853"
      },
      "outputs": [
        {
          "output_type": "execute_result",
          "data": {
            "text/plain": [
              "time             False\n",
              "iaco24           False\n",
              "lat              False\n",
              "long             False\n",
              "velocity          True\n",
              "vertrate          True\n",
              "baroaltitude      True\n",
              "heading          False\n",
              "callsign         False\n",
              "onground         False\n",
              "alert            False\n",
              "spi              False\n",
              "squawk           False\n",
              "geoaltitude      False\n",
              "lastposupdate    False\n",
              "lastcontact      False\n",
              "serials          False\n",
              "dtype: bool"
            ]
          },
          "metadata": {},
          "execution_count": 21
        }
      ],
      "source": [
        "df.isnull().any()"
      ]
    },
    {
      "cell_type": "code",
      "execution_count": 22,
      "metadata": {
        "id": "PgnWlea4vxgh"
      },
      "outputs": [],
      "source": [
        "df2 = df.dropna()"
      ]
    },
    {
      "cell_type": "markdown",
      "source": [
        "MAIN Dataframe is now df2!"
      ],
      "metadata": {
        "id": "RkbLMp3Z9Fvl"
      }
    },
    {
      "cell_type": "code",
      "execution_count": 23,
      "metadata": {
        "colab": {
          "base_uri": "https://localhost:8080/"
        },
        "id": "06p9k4HJmE4Y",
        "outputId": "939c06c7-f568-43ba-89cd-b6430ed0ed20"
      },
      "outputs": [
        {
          "output_type": "execute_result",
          "data": {
            "text/plain": [
              "time   iaco24  lat    long   velocity  vertrate  baroaltitude  heading  callsign  onground  alert  spi    squawk  geoaltitude  lastposupdate  lastcontact  serials\n",
              "False  False   False  False  False     False     False         False    False     False     False  False  False   False        False          False        False      2256259\n",
              "dtype: int64"
            ]
          },
          "metadata": {},
          "execution_count": 23
        }
      ],
      "source": [
        "df2.isna().value_counts()"
      ]
    },
    {
      "cell_type": "code",
      "execution_count": null,
      "metadata": {
        "id": "QRcLOntymE4Z",
        "outputId": "24df4f63-f29f-44cb-e9eb-4ee12f2c5352"
      },
      "outputs": [
        {
          "name": "stdout",
          "output_type": "stream",
          "text": [
            "None\n"
          ]
        }
      ],
      "source": [
        ""
      ]
    },
    {
      "cell_type": "code",
      "execution_count": 24,
      "metadata": {
        "colab": {
          "base_uri": "https://localhost:8080/"
        },
        "id": "41fybUGVmE4Z",
        "outputId": "74174349-ae0f-4e08-9d3f-dda8dd58e70e"
      },
      "outputs": [
        {
          "output_type": "execute_result",
          "data": {
            "text/plain": [
              "False    2260462\n",
              "True         530\n",
              "Name: velocity, dtype: int64"
            ]
          },
          "metadata": {},
          "execution_count": 24
        }
      ],
      "source": [
        "df['velocity'].isna().value_counts()"
      ]
    },
    {
      "cell_type": "markdown",
      "source": [
        "Checking for outliers with a boxplot"
      ],
      "metadata": {
        "id": "VfAxmDSr9Vw3"
      }
    },
    {
      "cell_type": "code",
      "execution_count": 26,
      "metadata": {
        "colab": {
          "base_uri": "https://localhost:8080/",
          "height": 284
        },
        "id": "-3kcu1rYmE4a",
        "outputId": "d4b5b6f5-927a-4d6c-be0d-074105276422"
      },
      "outputs": [
        {
          "output_type": "execute_result",
          "data": {
            "text/plain": [
              "<matplotlib.axes._subplots.AxesSubplot at 0x7ff33dc814d0>"
            ]
          },
          "metadata": {},
          "execution_count": 26
        },
        {
          "output_type": "display_data",
          "data": {
            "text/plain": [
              "<Figure size 432x288 with 1 Axes>"
            ],
            "image/png": "[encoded data removed]"
          },
          "metadata": {
            "needs_background": "light"
          }
        }
      ],
      "source": [
        "sns.boxplot(data=df2[['velocity','vertrate','lat','long']])"
      ]
    },
    {
      "cell_type": "markdown",
      "source": [
        "ISOLATION FOREST MODEL"
      ],
      "metadata": {
        "id": "m_7bmY7h9Zab"
      }
    },
    {
      "cell_type": "code",
      "execution_count": 27,
      "metadata": {
        "colab": {
          "base_uri": "https://localhost:8080/"
        },
        "id": "9uOdIOFYYJkN",
        "outputId": "fd24433d-e60c-49be-982e-3053fde0caf4"
      },
      "outputs": [
        {
          "output_type": "stream",
          "name": "stderr",
          "text": [
            "/usr/local/lib/python3.7/dist-packages/sklearn/base.py:451: UserWarning: X does not have valid feature names, but IsolationForest was fitted with feature names\n",
            "  \"X does not have valid feature names, but\"\n"
          ]
        },
        {
          "output_type": "stream",
          "name": "stdout",
          "text": [
            "{'bootstrap': False, 'contamination': 0.003, 'max_features': 1.0, 'max_samples': 'auto', 'n_estimators': 100, 'n_jobs': None, 'random_state': RandomState(MT19937) at 0x7FF33DDAE050, 'verbose': 0, 'warm_start': False}\n"
          ]
        }
      ],
      "source": [
        "model=IsolationForest(n_estimators=100,max_samples='auto',contamination=float(0.003),random_state=random_state)\n",
        "\n",
        "#model.fit(df2[['velocity','vertrate','baroaltitude']])\n",
        "model.fit(df2[['velocity','vertrate','lat','long']])\n",
        "\n",
        "print(model.get_params())"
      ]
    },
    {
      "cell_type": "code",
      "execution_count": 28,
      "metadata": {
        "id": "9ajvdQ8OYWGv",
        "colab": {
          "base_uri": "https://localhost:8080/"
        },
        "outputId": "db7ef63d-97d6-4fb9-b0ea-8a4640c48f82"
      },
      "outputs": [
        {
          "output_type": "stream",
          "name": "stderr",
          "text": [
            "/usr/local/lib/python3.7/dist-packages/ipykernel_launcher.py:1: SettingWithCopyWarning: \n",
            "A value is trying to be set on a copy of a slice from a DataFrame.\n",
            "Try using .loc[row_indexer,col_indexer] = value instead\n",
            "\n",
            "See the caveats in the documentation: https://pandas.pydata.org/pandas-docs/stable/user_guide/indexing.html#returning-a-view-versus-a-copy\n",
            "  \"\"\"Entry point for launching an IPython kernel.\n",
            "/usr/local/lib/python3.7/dist-packages/ipykernel_launcher.py:3: SettingWithCopyWarning: \n",
            "A value is trying to be set on a copy of a slice from a DataFrame.\n",
            "Try using .loc[row_indexer,col_indexer] = value instead\n",
            "\n",
            "See the caveats in the documentation: https://pandas.pydata.org/pandas-docs/stable/user_guide/indexing.html#returning-a-view-versus-a-copy\n",
            "  This is separate from the ipykernel package so we can avoid doing imports until\n"
          ]
        }
      ],
      "source": [
        "df2['scores'] = model.decision_function(df2[['velocity','vertrate','lat','long']])\n",
        "\n",
        "df2['anomaly_score'] = model.predict(df2[['velocity','vertrate','lat','long']])\n"
      ]
    },
    {
      "cell_type": "code",
      "execution_count": 29,
      "metadata": {
        "colab": {
          "base_uri": "https://localhost:8080/"
        },
        "id": "nwqiIkoZmE4b",
        "outputId": "e94aaccd-9224-4570-ae1b-65a41bc29f83"
      },
      "outputs": [
        {
          "output_type": "execute_result",
          "data": {
            "text/plain": [
              "time             0.002942\n",
              "iaco24           0.002942\n",
              "lat              0.002942\n",
              "long             0.002942\n",
              "velocity         0.002942\n",
              "vertrate         0.002942\n",
              "baroaltitude     0.002942\n",
              "heading          0.002942\n",
              "callsign         0.002942\n",
              "onground         0.002942\n",
              "alert            0.002942\n",
              "spi              0.002942\n",
              "squawk           0.002942\n",
              "geoaltitude      0.002942\n",
              "lastposupdate    0.002942\n",
              "lastcontact      0.002942\n",
              "serials          0.002942\n",
              "scores           0.002942\n",
              "anomaly_score    0.002942\n",
              "dtype: float64"
            ]
          },
          "metadata": {},
          "execution_count": 29
        }
      ],
      "source": [
        "df2[df2['anomaly_score']==-1].count()/len(df2)"
      ]
    },
    {
      "cell_type": "markdown",
      "source": [
        "## Second Isolation Forest Model and Visualization"
      ],
      "metadata": {
        "id": "FcnnufOjrKz8"
      }
    },
    {
      "cell_type": "code",
      "source": [
        "df2.columns\n",
        "#specify the 12 metrics column names to be modelled\n",
        "to_model_columns=df2.columns[3:6]\n",
        "from sklearn.ensemble import IsolationForest\n",
        "clf=IsolationForest(n_estimators=100, max_samples='auto', contamination=float(.003), \\\n",
        "                        max_features=1.0, bootstrap=False, n_jobs=-1, random_state=42, verbose=0)\n",
        "clf.fit(df2[to_model_columns])\n",
        "pred = clf.predict(df2[to_model_columns])\n",
        "df2['anomaly']=pred\n",
        "outliers=df2.loc[df2['anomaly']==-1]\n",
        "outlier_index=list(outliers.index)\n",
        "#print(outlier_index)\n",
        "#Find the number of anomalies and normal points here points classified -1 are anomalous\n",
        "print(df2['anomaly'].value_counts())"
      ],
      "metadata": {
        "colab": {
          "base_uri": "https://localhost:8080/"
        },
        "id": "iJA3UUCxsQne",
        "outputId": "8ff6f870-6fe8-4c6a-9090-a1cbd4a5e291"
      },
      "execution_count": 30,
      "outputs": [
        {
          "output_type": "stream",
          "name": "stderr",
          "text": [
            "/usr/local/lib/python3.7/dist-packages/sklearn/base.py:451: UserWarning: X does not have valid feature names, but IsolationForest was fitted with feature names\n",
            "  \"X does not have valid feature names, but\"\n"
          ]
        },
        {
          "output_type": "stream",
          "name": "stdout",
          "text": [
            " 1    2249491\n",
            "-1       6768\n",
            "Name: anomaly, dtype: int64\n"
          ]
        },
        {
          "output_type": "stream",
          "name": "stderr",
          "text": [
            "/usr/local/lib/python3.7/dist-packages/ipykernel_launcher.py:8: SettingWithCopyWarning: \n",
            "A value is trying to be set on a copy of a slice from a DataFrame.\n",
            "Try using .loc[row_indexer,col_indexer] = value instead\n",
            "\n",
            "See the caveats in the documentation: https://pandas.pydata.org/pandas-docs/stable/user_guide/indexing.html#returning-a-view-versus-a-copy\n",
            "  \n"
          ]
        }
      ]
    },
    {
      "cell_type": "code",
      "source": [
        "import matplotlib.pyplot as plt"
      ],
      "metadata": {
        "id": "Asw7Dtu5vpTf"
      },
      "execution_count": 31,
      "outputs": []
    },
    {
      "cell_type": "code",
      "source": [
        "from sklearn.decomposition import PCA\n",
        "from sklearn.preprocessing import StandardScaler\n",
        "from mpl_toolkits.mplot3d import Axes3D\n",
        "pca = PCA(n_components=3)  # Reduce to k=3 dimensions\n",
        "scaler = StandardScaler()\n",
        "#normalize the metrics\n",
        "X = scaler.fit_transform(df2[to_model_columns])\n",
        "X_reduce = pca.fit_transform(X)\n",
        "fig = plt.figure()\n",
        "ax = fig.add_subplot(111, projection='3d')\n",
        "ax.set_zlabel(\"x_composite_3\")\n",
        "# Plot the compressed data points\n",
        "ax.scatter(X_reduce[:, 0], X_reduce[:, 1], zs=X_reduce[:, 2], s=4, lw=1, label=\"inliers\",c=\"green\")\n",
        "# Plot x's for the ground truth outliers\n",
        "ax.scatter(X_reduce[outlier_index,0],X_reduce[outlier_index,1], X_reduce[outlier_index,2],\n",
        "           lw=2, s=60, marker=\"x\", c=\"red\", label=\"outliers\")\n",
        "ax.legend()\n",
        "plt.show()"
      ],
      "metadata": {
        "colab": {
          "base_uri": "https://localhost:8080/",
          "height": 248
        },
        "id": "bSOftlpDv1D9",
        "outputId": "50337963-132e-4bbd-b876-83a3b87ab672"
      },
      "execution_count": 32,
      "outputs": [
        {
          "output_type": "display_data",
          "data": {
            "text/plain": [
              "<Figure size 432x288 with 1 Axes>"
            ],
            "image/png": "[encoded data removed]"
          },
          "metadata": {
            "needs_background": "light"
          }
        }
      ]
    },
    {
      "cell_type": "code",
      "source": [
        "from sklearn.decomposition import PCA\n",
        "pca = PCA(2)\n",
        "pca.fit(df2[to_model_columns])\n",
        "res=pd.DataFrame(pca.transform(df2[to_model_columns]))\n",
        "Z = np.array(res)\n",
        "plt.title(\"IsolationForest\")\n",
        "plt.contourf( Z, cmap=plt.cm.Blues_r)\n",
        "b1 = plt.scatter(res[0], res[1], c='green',\n",
        "                 s=20,label=\"normal points\")\n",
        "b1 =plt.scatter(res.iloc[outlier_index,0],res.iloc[outlier_index,1], c='green',s=20,  edgecolor=\"red\",label=\"predicted outliers\")\n",
        "plt.legend(loc=\"upper right\")\n",
        "plt.show()"
      ],
      "metadata": {
        "colab": {
          "base_uri": "https://localhost:8080/",
          "height": 281
        },
        "id": "87iA1HqLrNdR",
        "outputId": "88d215df-f2e8-4c2e-b790-96725b4a1ac9"
      },
      "execution_count": 33,
      "outputs": [
        {
          "output_type": "display_data",
          "data": {
            "text/plain": [
              "<Figure size 432x288 with 1 Axes>"
            ],
            "image/png": "[encoded data removed]"
          },
          "metadata": {
            "needs_background": "light"
          }
        }
      ]
    },
    {
      "cell_type": "code",
      "source": [
        ""
      ],
      "metadata": {
        "id": "ESD-KCzqvqWB"
      },
      "execution_count": null,
      "outputs": []
    }
  ],
  "metadata": {
    "colab": {
      "collapsed_sections": [],
      "name": "RevisedLM_Anomaly_Isolation_forest.ipynb",
      "provenance": [],
      "include_colab_link": true
    },
    "kernelspec": {
      "display_name": "Python 3",
      "name": "python3"
    },
    "language_info": {
      "codemirror_mode": {
        "name": "ipython",
        "version": 3
      },
      "file_extension": ".py",
      "mimetype": "text/x-python",
      "name": "python",
      "nbconvert_exporter": "python",
      "pygments_lexer": "ipython3",
      "version": "3.8.8"
    }
  },
  "nbformat": 4,
  "nbformat_minor": 0
}